{
  "nbformat": 4,
  "nbformat_minor": 0,
  "metadata": {
    "colab": {
      "name": "streamingPlatformAnalysis.ipynb",
      "provenance": [],
      "mount_file_id": "1E1UKg9e3p2TzuAkHQZ1PIKN0A70Oia6X",
      "authorship_tag": "ABX9TyNl89aJRXcP9D4c0vKoIOhm",
      "include_colab_link": true
    },
    "kernelspec": {
      "name": "python3",
      "display_name": "Python 3"
    },
    "language_info": {
      "name": "python"
    }
  },
  "cells": [
    {
      "cell_type": "markdown",
      "metadata": {
        "id": "view-in-github",
        "colab_type": "text"
      },
      "source": [
        "<a href=\"https://colab.research.google.com/github/NicoMyshkin/streamingPlatformAnalysis/blob/main/streamingPlatformAnalysis.ipynb\" target=\"_parent\"><img src=\"https://colab.research.google.com/assets/colab-badge.svg\" alt=\"Open In Colab\"/></a>"
      ]
    },
    {
      "cell_type": "markdown",
      "metadata": {
        "id": "wiPOYqe2FTNZ"
      },
      "source": [
        "# Recomendation System for Streaming Platforms\n",
        "\n",
        "In this Python tutorial, we'll explore movide data of popular streaming platforms and build a recommendation system\n",
        "\n",
        "This tutorial was originally published by Avinash Navlani on August 30th, 2020 on Datacamp, you can see [here](https://www.datacamp.com/community/tutorials/streaming-platform-analysis).\n",
        "\n",
        "We'll analyze movie data of streaming platforms such as Netflix, Prime Video, Hulu, and Disney+, and try to understand their viewers. Here are the highlights of the tutorial:\n",
        "\n",
        "1.   Understanding the dataset\n",
        "2.   Working with missing values\n",
        "3.   Distribution plots\n",
        "4.   Distribution of movies on each streaming platform\n",
        "5.   Movie distribution according to genre\n",
        "6.   Movie distribution according to country\n",
        "7.   IMDB distribution according to language\n",
        "8.   IMDB distribution according to platform\n",
        "9.   Runtime per platform along with age group\n",
        "10.  Building a recommendation system\n",
        "11.  Conclusion\n",
        "\n"
      ]
    },
    {
      "cell_type": "markdown",
      "metadata": {
        "id": "c067yHHpGnMZ"
      },
      "source": [
        "## 1. Understanding the dataset\n",
        "\n",
        "The data consists of movies available on streaming platforms sucha s Netflix, Amazon Prime Video, Hulu, and Disney+. It can be downloaded from Kaggle [here](https://https://www.kaggle.com/ruchi798/movies-on-netflix-prime-video-hulu-and-disney).\n",
        "\n",
        "It is composed of:\n",
        "\n",
        "* ID: It is a unique ID for each record.\n",
        "* Title: It is the name of the movie\n",
        "* Year: Release year of the movie.\n",
        "* Age: it is the target age group\n",
        "* IMDb: IMDB rating of movies.\n",
        "* Rotten Tomatoes: Rotten Tomatoes %\n",
        "* Netflix: whether the movie is found on Netflix\n",
        "* Hulu: whether the movie is found on Hulu\n",
        "* Prime Video: whether the movie is found on Prime Video\n",
        "* Disney+: whether the movie is found on Disney+\n",
        "* Type: Movie or TV show\n",
        "* Directors: Name of the director\n",
        "* Genres: Type of genre\n",
        "* Country: Country of origin\n",
        "* Language: Language of origin\n",
        "* Runtime: Duration of the movie"
      ]
    },
    {
      "cell_type": "markdown",
      "metadata": {
        "id": "-S7liNmozTf_"
      },
      "source": [
        "### 1.1 Importing libraries"
      ]
    },
    {
      "cell_type": "code",
      "metadata": {
        "id": "dhHGPclwzlwz"
      },
      "source": [
        "# Magic function to plot outputs \n",
        "%matplotlib inline\n",
        "\n",
        "# Required libraries\n",
        "\n",
        "import numpy as np\n",
        "import pandas as pd\n",
        "import matplotlib.pyplot as plt\n",
        "import seaborn as sns\n",
        "from sklearn.feature_extraction.text import TfidfVectorizer\n",
        "from nltk.tokenize import RegexpTokenizer\n",
        "from sklearn import preprocessing\n",
        "from scipy.sparse import hstack\n",
        "import pandas_profiling"
      ],
      "execution_count": 130,
      "outputs": []
    },
    {
      "cell_type": "markdown",
      "metadata": {
        "id": "91iNCWgKzXnD"
      },
      "source": [
        "### 1.2 Loading dataset"
      ]
    },
    {
      "cell_type": "code",
      "metadata": {
        "id": "qZWYpbbIHNsz"
      },
      "source": [
        "# Load dataset\n",
        "\n",
        "df = pd.read_csv(\"MoviesOnStreamingPlatforms_updated.csv\")\n",
        "df = df.iloc[:,1:] # removing unnamed index column"
      ],
      "execution_count": 131,
      "outputs": []
    },
    {
      "cell_type": "code",
      "metadata": {
        "id": "8eTro_sLf7bC"
      },
      "source": [
        "df['IMDb'] = df['IMDb'].str[:3]\n",
        "df['Rotten Tomatoes'] = df['Rotten Tomatoes'].str[:2]\n",
        "df.IMDb = df.IMDb.astype('float')\n",
        "df['Rotten Tomatoes'] = df['Rotten Tomatoes'].astype('float')\n"
      ],
      "execution_count": 132,
      "outputs": []
    },
    {
      "cell_type": "code",
      "metadata": {
        "colab": {
          "base_uri": "https://localhost:8080/",
          "height": 276
        },
        "id": "Om_bJ6gY0mSv",
        "outputId": "5f25bfac-9627-4d0e-b606-fcb042e537d0"
      },
      "source": [
        "df.head()"
      ],
      "execution_count": 133,
      "outputs": [
        {
          "output_type": "execute_result",
          "data": {
            "text/html": [
              "<div>\n",
              "<style scoped>\n",
              "    .dataframe tbody tr th:only-of-type {\n",
              "        vertical-align: middle;\n",
              "    }\n",
              "\n",
              "    .dataframe tbody tr th {\n",
              "        vertical-align: top;\n",
              "    }\n",
              "\n",
              "    .dataframe thead th {\n",
              "        text-align: right;\n",
              "    }\n",
              "</style>\n",
              "<table border=\"1\" class=\"dataframe\">\n",
              "  <thead>\n",
              "    <tr style=\"text-align: right;\">\n",
              "      <th></th>\n",
              "      <th>ID</th>\n",
              "      <th>Title</th>\n",
              "      <th>Year</th>\n",
              "      <th>Age</th>\n",
              "      <th>IMDb</th>\n",
              "      <th>Rotten Tomatoes</th>\n",
              "      <th>Netflix</th>\n",
              "      <th>Hulu</th>\n",
              "      <th>Prime Video</th>\n",
              "      <th>Disney+</th>\n",
              "      <th>Type</th>\n",
              "      <th>Directors</th>\n",
              "      <th>Genres</th>\n",
              "      <th>Country</th>\n",
              "      <th>Language</th>\n",
              "      <th>Runtime</th>\n",
              "    </tr>\n",
              "  </thead>\n",
              "  <tbody>\n",
              "    <tr>\n",
              "      <th>0</th>\n",
              "      <td>1</td>\n",
              "      <td>The Irishman</td>\n",
              "      <td>2019</td>\n",
              "      <td>18+</td>\n",
              "      <td>7.8</td>\n",
              "      <td>98.0</td>\n",
              "      <td>1</td>\n",
              "      <td>0</td>\n",
              "      <td>0</td>\n",
              "      <td>0</td>\n",
              "      <td>0</td>\n",
              "      <td>Martin Scorsese</td>\n",
              "      <td>Biography,Crime,Drama</td>\n",
              "      <td>United States</td>\n",
              "      <td>English,Italian,Latin,Spanish,German</td>\n",
              "      <td>209.0</td>\n",
              "    </tr>\n",
              "    <tr>\n",
              "      <th>1</th>\n",
              "      <td>2</td>\n",
              "      <td>Dangal</td>\n",
              "      <td>2016</td>\n",
              "      <td>7+</td>\n",
              "      <td>8.4</td>\n",
              "      <td>97.0</td>\n",
              "      <td>1</td>\n",
              "      <td>0</td>\n",
              "      <td>0</td>\n",
              "      <td>0</td>\n",
              "      <td>0</td>\n",
              "      <td>Nitesh Tiwari</td>\n",
              "      <td>Action,Biography,Drama,Sport</td>\n",
              "      <td>India,United States,United Kingdom,Australia,K...</td>\n",
              "      <td>Hindi,English</td>\n",
              "      <td>161.0</td>\n",
              "    </tr>\n",
              "    <tr>\n",
              "      <th>2</th>\n",
              "      <td>3</td>\n",
              "      <td>David Attenborough: A Life on Our Planet</td>\n",
              "      <td>2020</td>\n",
              "      <td>7+</td>\n",
              "      <td>9.0</td>\n",
              "      <td>95.0</td>\n",
              "      <td>1</td>\n",
              "      <td>0</td>\n",
              "      <td>0</td>\n",
              "      <td>0</td>\n",
              "      <td>0</td>\n",
              "      <td>Alastair Fothergill,Jonathan Hughes,Keith Scholey</td>\n",
              "      <td>Documentary,Biography</td>\n",
              "      <td>United Kingdom</td>\n",
              "      <td>English</td>\n",
              "      <td>83.0</td>\n",
              "    </tr>\n",
              "    <tr>\n",
              "      <th>3</th>\n",
              "      <td>4</td>\n",
              "      <td>Lagaan: Once Upon a Time in India</td>\n",
              "      <td>2001</td>\n",
              "      <td>7+</td>\n",
              "      <td>8.1</td>\n",
              "      <td>94.0</td>\n",
              "      <td>1</td>\n",
              "      <td>0</td>\n",
              "      <td>0</td>\n",
              "      <td>0</td>\n",
              "      <td>0</td>\n",
              "      <td>Ashutosh Gowariker</td>\n",
              "      <td>Drama,Musical,Sport</td>\n",
              "      <td>India,United Kingdom</td>\n",
              "      <td>Hindi,English</td>\n",
              "      <td>224.0</td>\n",
              "    </tr>\n",
              "    <tr>\n",
              "      <th>4</th>\n",
              "      <td>5</td>\n",
              "      <td>Roma</td>\n",
              "      <td>2018</td>\n",
              "      <td>18+</td>\n",
              "      <td>7.7</td>\n",
              "      <td>94.0</td>\n",
              "      <td>1</td>\n",
              "      <td>0</td>\n",
              "      <td>0</td>\n",
              "      <td>0</td>\n",
              "      <td>0</td>\n",
              "      <td>NaN</td>\n",
              "      <td>Action,Drama,History,Romance,War</td>\n",
              "      <td>United Kingdom,United States</td>\n",
              "      <td>English</td>\n",
              "      <td>52.0</td>\n",
              "    </tr>\n",
              "  </tbody>\n",
              "</table>\n",
              "</div>"
            ],
            "text/plain": [
              "   ID  ... Runtime\n",
              "0   1  ...   209.0\n",
              "1   2  ...   161.0\n",
              "2   3  ...    83.0\n",
              "3   4  ...   224.0\n",
              "4   5  ...    52.0\n",
              "\n",
              "[5 rows x 16 columns]"
            ]
          },
          "metadata": {},
          "execution_count": 133
        }
      ]
    },
    {
      "cell_type": "code",
      "metadata": {
        "colab": {
          "base_uri": "https://localhost:8080/"
        },
        "id": "0SnB9LmL0sMK",
        "outputId": "847c89ff-bc10-41bd-b8dc-ca9feb297a8a"
      },
      "source": [
        "# Show info about the dataset\n",
        "df.info()"
      ],
      "execution_count": 134,
      "outputs": [
        {
          "output_type": "stream",
          "name": "stdout",
          "text": [
            "<class 'pandas.core.frame.DataFrame'>\n",
            "RangeIndex: 9515 entries, 0 to 9514\n",
            "Data columns (total 16 columns):\n",
            " #   Column           Non-Null Count  Dtype  \n",
            "---  ------           --------------  -----  \n",
            " 0   ID               9515 non-null   int64  \n",
            " 1   Title            9515 non-null   object \n",
            " 2   Year             9515 non-null   int64  \n",
            " 3   Age              5338 non-null   object \n",
            " 4   IMDb             9309 non-null   float64\n",
            " 5   Rotten Tomatoes  9508 non-null   float64\n",
            " 6   Netflix          9515 non-null   int64  \n",
            " 7   Hulu             9515 non-null   int64  \n",
            " 8   Prime Video      9515 non-null   int64  \n",
            " 9   Disney+          9515 non-null   int64  \n",
            " 10  Type             9515 non-null   int64  \n",
            " 11  Directors        9104 non-null   object \n",
            " 12  Genres           9399 non-null   object \n",
            " 13  Country          9261 non-null   object \n",
            " 14  Language         9202 non-null   object \n",
            " 15  Runtime          9196 non-null   float64\n",
            "dtypes: float64(3), int64(7), object(6)\n",
            "memory usage: 1.2+ MB\n"
          ]
        }
      ]
    },
    {
      "cell_type": "markdown",
      "metadata": {
        "id": "fwd7ZB2WGnPl"
      },
      "source": [
        "## 2. Working with missing values\n",
        "In this section, we'll work with missing values using the `isnull()` function. Let's see an example below:"
      ]
    },
    {
      "cell_type": "code",
      "metadata": {
        "id": "4r2zJFM5HOLK",
        "colab": {
          "base_uri": "https://localhost:8080/",
          "height": 551
        },
        "outputId": "37090f46-38da-4ee0-b9f7-e959fccff236"
      },
      "source": [
        "# Finding Missing values in all columns\n",
        "missing = pd.DataFrame(df.isnull().sum())\n",
        "missing = missing.rename(columns = {0:\"miss_count\"})\n",
        "missing[\"miss_%\"] = (missing.miss_count/len(df.ID))*100\n",
        "\n",
        "missing"
      ],
      "execution_count": 135,
      "outputs": [
        {
          "output_type": "execute_result",
          "data": {
            "text/html": [
              "<div>\n",
              "<style scoped>\n",
              "    .dataframe tbody tr th:only-of-type {\n",
              "        vertical-align: middle;\n",
              "    }\n",
              "\n",
              "    .dataframe tbody tr th {\n",
              "        vertical-align: top;\n",
              "    }\n",
              "\n",
              "    .dataframe thead th {\n",
              "        text-align: right;\n",
              "    }\n",
              "</style>\n",
              "<table border=\"1\" class=\"dataframe\">\n",
              "  <thead>\n",
              "    <tr style=\"text-align: right;\">\n",
              "      <th></th>\n",
              "      <th>miss_count</th>\n",
              "      <th>miss_%</th>\n",
              "    </tr>\n",
              "  </thead>\n",
              "  <tbody>\n",
              "    <tr>\n",
              "      <th>ID</th>\n",
              "      <td>0</td>\n",
              "      <td>0.000000</td>\n",
              "    </tr>\n",
              "    <tr>\n",
              "      <th>Title</th>\n",
              "      <td>0</td>\n",
              "      <td>0.000000</td>\n",
              "    </tr>\n",
              "    <tr>\n",
              "      <th>Year</th>\n",
              "      <td>0</td>\n",
              "      <td>0.000000</td>\n",
              "    </tr>\n",
              "    <tr>\n",
              "      <th>Age</th>\n",
              "      <td>4177</td>\n",
              "      <td>43.899107</td>\n",
              "    </tr>\n",
              "    <tr>\n",
              "      <th>IMDb</th>\n",
              "      <td>206</td>\n",
              "      <td>2.165003</td>\n",
              "    </tr>\n",
              "    <tr>\n",
              "      <th>Rotten Tomatoes</th>\n",
              "      <td>7</td>\n",
              "      <td>0.073568</td>\n",
              "    </tr>\n",
              "    <tr>\n",
              "      <th>Netflix</th>\n",
              "      <td>0</td>\n",
              "      <td>0.000000</td>\n",
              "    </tr>\n",
              "    <tr>\n",
              "      <th>Hulu</th>\n",
              "      <td>0</td>\n",
              "      <td>0.000000</td>\n",
              "    </tr>\n",
              "    <tr>\n",
              "      <th>Prime Video</th>\n",
              "      <td>0</td>\n",
              "      <td>0.000000</td>\n",
              "    </tr>\n",
              "    <tr>\n",
              "      <th>Disney+</th>\n",
              "      <td>0</td>\n",
              "      <td>0.000000</td>\n",
              "    </tr>\n",
              "    <tr>\n",
              "      <th>Type</th>\n",
              "      <td>0</td>\n",
              "      <td>0.000000</td>\n",
              "    </tr>\n",
              "    <tr>\n",
              "      <th>Directors</th>\n",
              "      <td>411</td>\n",
              "      <td>4.319496</td>\n",
              "    </tr>\n",
              "    <tr>\n",
              "      <th>Genres</th>\n",
              "      <td>116</td>\n",
              "      <td>1.219128</td>\n",
              "    </tr>\n",
              "    <tr>\n",
              "      <th>Country</th>\n",
              "      <td>254</td>\n",
              "      <td>2.669469</td>\n",
              "    </tr>\n",
              "    <tr>\n",
              "      <th>Language</th>\n",
              "      <td>313</td>\n",
              "      <td>3.289543</td>\n",
              "    </tr>\n",
              "    <tr>\n",
              "      <th>Runtime</th>\n",
              "      <td>319</td>\n",
              "      <td>3.352601</td>\n",
              "    </tr>\n",
              "  </tbody>\n",
              "</table>\n",
              "</div>"
            ],
            "text/plain": [
              "                 miss_count     miss_%\n",
              "ID                        0   0.000000\n",
              "Title                     0   0.000000\n",
              "Year                      0   0.000000\n",
              "Age                    4177  43.899107\n",
              "IMDb                    206   2.165003\n",
              "Rotten Tomatoes           7   0.073568\n",
              "Netflix                   0   0.000000\n",
              "Hulu                      0   0.000000\n",
              "Prime Video               0   0.000000\n",
              "Disney+                   0   0.000000\n",
              "Type                      0   0.000000\n",
              "Directors               411   4.319496\n",
              "Genres                  116   1.219128\n",
              "Country                 254   2.669469\n",
              "Language                313   3.289543\n",
              "Runtime                 319   3.352601"
            ]
          },
          "metadata": {},
          "execution_count": 135
        }
      ]
    },
    {
      "cell_type": "markdown",
      "metadata": {
        "id": "o-1Z_l31u707"
      },
      "source": [
        "The variable \"Age\" has more than 50% missing values, whereas the others have less than 5%. To handle this, we'll drop the variable \"Age\" and drop NA from IMDb, Rotten Tomatoes, Directors, Genres, Country, Language and Runtime\n"
      ]
    },
    {
      "cell_type": "code",
      "metadata": {
        "id": "kQ4G7YWau6sT"
      },
      "source": [
        "# Dropping values with missing % more than 50%\n",
        "df.drop([\"Age\"], axis = 1, inplace = True)\n",
        "# Dropping NA's from the columns with less than 5% missing values\n",
        "df.dropna(subset = [\"IMDb\",\"Rotten Tomatoes\",\"Directors\",\"Genres\",\"Country\",\"Language\", \"Runtime\"], inplace = True)\n",
        "df.reset_index(inplace = True, drop = True)\n",
        "# Converting Year, IMDb and Rotten Tomatoes into object, float, and float type\n",
        "df.Year = df.Year.astype(\"object\")\n",
        "\n"
      ],
      "execution_count": 136,
      "outputs": []
    },
    {
      "cell_type": "code",
      "metadata": {
        "colab": {
          "base_uri": "https://localhost:8080/"
        },
        "id": "XsP00JkDyGAL",
        "outputId": "180330b4-2a4b-4eca-d9c6-7ebbf8822a58"
      },
      "source": [
        "df.info()"
      ],
      "execution_count": 137,
      "outputs": [
        {
          "output_type": "stream",
          "name": "stdout",
          "text": [
            "<class 'pandas.core.frame.DataFrame'>\n",
            "RangeIndex: 8695 entries, 0 to 8694\n",
            "Data columns (total 15 columns):\n",
            " #   Column           Non-Null Count  Dtype  \n",
            "---  ------           --------------  -----  \n",
            " 0   ID               8695 non-null   int64  \n",
            " 1   Title            8695 non-null   object \n",
            " 2   Year             8695 non-null   object \n",
            " 3   IMDb             8695 non-null   float64\n",
            " 4   Rotten Tomatoes  8695 non-null   float64\n",
            " 5   Netflix          8695 non-null   int64  \n",
            " 6   Hulu             8695 non-null   int64  \n",
            " 7   Prime Video      8695 non-null   int64  \n",
            " 8   Disney+          8695 non-null   int64  \n",
            " 9   Type             8695 non-null   int64  \n",
            " 10  Directors        8695 non-null   object \n",
            " 11  Genres           8695 non-null   object \n",
            " 12  Country          8695 non-null   object \n",
            " 13  Language         8695 non-null   object \n",
            " 14  Runtime          8695 non-null   float64\n",
            "dtypes: float64(3), int64(6), object(6)\n",
            "memory usage: 1019.1+ KB\n"
          ]
        }
      ]
    },
    {
      "cell_type": "markdown",
      "metadata": {
        "id": "ftIqNz9wGnTP"
      },
      "source": [
        "## 3. Distribution plots"
      ]
    },
    {
      "cell_type": "code",
      "metadata": {
        "id": "8ioxFPMZHOuc",
        "colab": {
          "base_uri": "https://localhost:8080/",
          "height": 406
        },
        "outputId": "fb84595c-7870-412f-8270-fe1bb71e2ec7"
      },
      "source": [
        "# Checking year distribution\n",
        "plt.figure(figsize=(20,5))\n",
        "sns.distplot(df[\"Year\"])\n"
      ],
      "execution_count": 138,
      "outputs": [
        {
          "output_type": "stream",
          "name": "stderr",
          "text": [
            "/usr/local/lib/python3.7/dist-packages/seaborn/distributions.py:2619: FutureWarning: `distplot` is a deprecated function and will be removed in a future version. Please adapt your code to use either `displot` (a figure-level function with similar flexibility) or `histplot` (an axes-level function for histograms).\n",
            "  warnings.warn(msg, FutureWarning)\n"
          ]
        },
        {
          "output_type": "execute_result",
          "data": {
            "text/plain": [
              "<matplotlib.axes._subplots.AxesSubplot at 0x7f997c003ed0>"
            ]
          },
          "metadata": {},
          "execution_count": 138
        },
        {
          "output_type": "display_data",
          "data": {
            "image/png": "[encoded data removed]",
            "text/plain": [
              "<Figure size 1440x360 with 1 Axes>"
            ]
          },
          "metadata": {
            "needs_background": "light"
          }
        }
      ]
    },
    {
      "cell_type": "code",
      "metadata": {
        "colab": {
          "base_uri": "https://localhost:8080/",
          "height": 389
        },
        "id": "04jq4Xza-VJZ",
        "outputId": "27c84203-cb0c-462e-8afd-83a24e1428d5"
      },
      "source": [
        "# Checking IMDb distribution\n",
        "plt.figure(figsize=(20,5))\n",
        "sns.distplot(df['IMDb'])\n",
        "plt.show()"
      ],
      "execution_count": 139,
      "outputs": [
        {
          "output_type": "stream",
          "name": "stderr",
          "text": [
            "/usr/local/lib/python3.7/dist-packages/seaborn/distributions.py:2619: FutureWarning: `distplot` is a deprecated function and will be removed in a future version. Please adapt your code to use either `displot` (a figure-level function with similar flexibility) or `histplot` (an axes-level function for histograms).\n",
            "  warnings.warn(msg, FutureWarning)\n"
          ]
        },
        {
          "output_type": "display_data",
          "data": {
            "image/png": "[encoded data removed]",
            "text/plain": [
              "<Figure size 1440x360 with 1 Axes>"
            ]
          },
          "metadata": {
            "needs_background": "light"
          }
        }
      ]
    },
    {
      "cell_type": "code",
      "metadata": {
        "colab": {
          "base_uri": "https://localhost:8080/",
          "height": 407
        },
        "id": "3sGPdp54_8tT",
        "outputId": "1d785639-2f78-4c78-8220-131ed6da54c0"
      },
      "source": [
        "# Distribution of runtime\n",
        "plt.figure(figsize=(20,5))\n",
        "sns.distplot(df['Runtime'])"
      ],
      "execution_count": 140,
      "outputs": [
        {
          "output_type": "stream",
          "name": "stderr",
          "text": [
            "/usr/local/lib/python3.7/dist-packages/seaborn/distributions.py:2619: FutureWarning: `distplot` is a deprecated function and will be removed in a future version. Please adapt your code to use either `displot` (a figure-level function with similar flexibility) or `histplot` (an axes-level function for histograms).\n",
            "  warnings.warn(msg, FutureWarning)\n"
          ]
        },
        {
          "output_type": "execute_result",
          "data": {
            "text/plain": [
              "<matplotlib.axes._subplots.AxesSubplot at 0x7f9972703090>"
            ]
          },
          "metadata": {},
          "execution_count": 140
        },
        {
          "output_type": "display_data",
          "data": {
            "image/png": "[encoded data removed]",
            "text/plain": [
              "<Figure size 1440x360 with 1 Axes>"
            ]
          },
          "metadata": {
            "needs_background": "light"
          }
        }
      ]
    },
    {
      "cell_type": "markdown",
      "metadata": {
        "id": "ymSJIR0bGnWF"
      },
      "source": [
        "## 4. Distribution of movies on each streaming platform"
      ]
    },
    {
      "cell_type": "code",
      "metadata": {
        "id": "KJhztWBdHPO6"
      },
      "source": [
        "# A function to calculate the movies in different Streaming platforms\n",
        "def m_cnt(plat, count=False):\n",
        "    if count==False:\n",
        "        print('Platform {} Count: {}'. format(plat, df[plat].sum()))\n",
        "    else:\n",
        "        return df[plat].sum()"
      ],
      "execution_count": 141,
      "outputs": []
    },
    {
      "cell_type": "code",
      "metadata": {
        "id": "RAX0aCl-Al-I",
        "colab": {
          "base_uri": "https://localhost:8080/"
        },
        "outputId": "216d4688-8424-472f-9942-9720a19003db"
      },
      "source": [
        "# Let's see count of movies/shows of each streaming platform\n",
        "m_cnt('Netflix')\n",
        "m_cnt('Hulu')\n",
        "m_cnt('Prime Video')\n",
        "m_cnt('Disney+')"
      ],
      "execution_count": 142,
      "outputs": [
        {
          "output_type": "stream",
          "name": "stdout",
          "text": [
            "Platform Netflix Count: 3325\n",
            "Platform Hulu Count: 998\n",
            "Platform Prime Video Count: 3799\n",
            "Platform Disney+ Count: 819\n"
          ]
        }
      ]
    },
    {
      "cell_type": "code",
      "metadata": {
        "colab": {
          "base_uri": "https://localhost:8080/",
          "height": 248
        },
        "id": "OvqXTBVH44lH",
        "outputId": "03b95ad7-0282-4166-a91e-849eb54301b5"
      },
      "source": [
        "# Movies on each platform\n",
        "\n",
        "lab = 'Prime Video', 'Netflix', 'Hulu', 'Disney'\n",
        "s = [m_cnt('Prime Video', count = True),\n",
        "     m_cnt('Netflix', count = True),\n",
        "     m_cnt('Hulu', count = True),\n",
        "     m_cnt('Disney+', count = True)]\n",
        "\n",
        "explode = (0.1,0.1,0.1,0.1)\n",
        "\n",
        "# Plotting\n",
        "fig1, ax1 = plt.subplots()\n",
        "ax1.pie(s, \n",
        "        labels = lab,\n",
        "        autopct = \"%1.1f%%\",\n",
        "        explode = explode,\n",
        "        shadow = True,\n",
        "        startangle = 90)\n",
        "\n",
        "ax1.axis = (\"equal\")\n",
        "plt.show()"
      ],
      "execution_count": 143,
      "outputs": [
        {
          "output_type": "display_data",
          "data": {
            "image/png": "[encoded data removed]",
            "text/plain": [
              "<Figure size 432x288 with 1 Axes>"
            ]
          },
          "metadata": {}
        }
      ]
    },
    {
      "cell_type": "markdown",
      "metadata": {
        "id": "NeSbuK-jDpef"
      },
      "source": [
        "From the plot above, we can infer that Prime Video hosts the majority of titles with a 42.5% share, whereas Netflix hosts 37.2%. Hulu and Disney host the minority of the titles with 11.2% and 9.2%, respectively."
      ]
    },
    {
      "cell_type": "markdown",
      "metadata": {
        "id": "BUDlculYGnY-"
      },
      "source": [
        "## 5. Movie distribution according to genre"
      ]
    },
    {
      "cell_type": "markdown",
      "metadata": {
        "id": "0ldAHGOmEPTJ"
      },
      "source": [
        "In this section we'll analyse genre-wise movie distribution. As the Genre attribute has more than one genre per movie, we'll first use `split()` function to split multiple values with a comma to create a list. Then we'll use `apply(pd.Series,1)` to create multiple columns for each genre and `stack()` function to stack them into a single column."
      ]
    },
    {
      "cell_type": "code",
      "metadata": {
        "id": "UU20GSIREOiU"
      },
      "source": [
        "# Split the genres by \",\" & then stack it one after the other for easy analysis\n",
        "\n",
        "g = df[\"Genres\"].str.split(\",\").apply(pd.Series,1).stack()\n",
        "g.index = g.index.droplevel(-1)\n",
        "\n",
        "# Assign name to column\n",
        "\n",
        "g.name = \"Genres\"\n",
        "\n",
        "# delete column from df \n",
        "del df[\"Genres\"]\n",
        "\n",
        "# Join new column with the existing dataframe\n",
        "df_genres = df.join(g)"
      ],
      "execution_count": 144,
      "outputs": []
    },
    {
      "cell_type": "code",
      "metadata": {
        "colab": {
          "base_uri": "https://localhost:8080/",
          "height": 391
        },
        "id": "aOctNlq23REv",
        "outputId": "ae750b8c-4af7-4ebf-ca8e-bbc67d7ed54c"
      },
      "source": [
        "# Count of movies according to genre\n",
        "\n",
        "plt.figure(figsize = (15,5))\n",
        "sns.countplot(x = \"Genres\", data = df_genres)\n",
        "plt.xticks(rotation = 90)\n",
        "plt.show()"
      ],
      "execution_count": 145,
      "outputs": [
        {
          "output_type": "display_data",
          "data": {
            "image/png": "[encoded data removed]",
            "text/plain": [
              "<Figure size 1080x360 with 1 Axes>"
            ]
          },
          "metadata": {
            "needs_background": "light"
          }
        }
      ]
    },
    {
      "cell_type": "markdown",
      "metadata": {
        "id": "F8xfKzkx3q_t"
      },
      "source": [
        "From the plot above, we see that most movies are Drama and Comedy."
      ]
    },
    {
      "cell_type": "markdown",
      "metadata": {
        "id": "MVPperpFGxpq"
      },
      "source": [
        "## 6. Movie distribution according to country"
      ]
    },
    {
      "cell_type": "markdown",
      "metadata": {
        "id": "I3EF_-gg4llb"
      },
      "source": [
        " Similarly, we'll analyse country-wise movie distribution. Some movies have been recorded in different countries, and therefore, we'll separate these values, so that a film that has been recorded in 2 countries will appear twice, a row for each country"
      ]
    },
    {
      "cell_type": "code",
      "metadata": {
        "id": "4X2ctfe3HQWm"
      },
      "source": [
        "# Split the Country by ',' & then stack it one after the other for easy analysis.\n",
        "c = df['Country'].str.split(',').apply(pd.Series, 1).stack()\n",
        "c.index = c.index.droplevel(-1)\n",
        "# Assign name to column\n",
        "c.name = 'Country'\n",
        "# delete column\n",
        "del df['Country']\n",
        "# join new column with the existing dataframe\n",
        "df_country = df.join(c)"
      ],
      "execution_count": 146,
      "outputs": []
    },
    {
      "cell_type": "code",
      "metadata": {
        "colab": {
          "base_uri": "https://localhost:8080/",
          "height": 390
        },
        "id": "g41U61bJ_fYU",
        "outputId": "218e9068-38a5-4408-9020-899d929c665d"
      },
      "source": [
        "# plotting top 10 country and movie count\n",
        "df_country['Country'].value_counts()[:10].plot(kind='bar',figsize=(15,5))\n",
        "plt.show()"
      ],
      "execution_count": 147,
      "outputs": [
        {
          "output_type": "display_data",
          "data": {
            "image/png": "[encoded data removed]",
            "text/plain": [
              "<Figure size 1080x360 with 1 Axes>"
            ]
          },
          "metadata": {
            "needs_background": "light"
          }
        }
      ]
    },
    {
      "cell_type": "markdown",
      "metadata": {
        "id": "mq0IQ67LLFl_"
      },
      "source": [
        "This graph above, shows that the majority of movies were made in the United States"
      ]
    },
    {
      "cell_type": "markdown",
      "metadata": {
        "id": "zx5SmVJuGyHt"
      },
      "source": [
        "## 7. Movie distribution according to language"
      ]
    },
    {
      "cell_type": "code",
      "metadata": {
        "id": "4MGcNwe-HQ1j"
      },
      "source": [
        "# perform stacking operation on language column\n",
        "l = df['Language'].str.split(',').apply(pd.Series,1).stack()\n",
        "l.index = l.index.droplevel(-1)\n",
        "# Assign name to column\n",
        "l.name = 'Language'\n",
        "# delete column\n",
        "del df['Language']\n",
        "# join new column with the existing dataframe\n",
        "df_language = df.join(l)"
      ],
      "execution_count": 148,
      "outputs": []
    },
    {
      "cell_type": "code",
      "metadata": {
        "colab": {
          "base_uri": "https://localhost:8080/",
          "height": 248
        },
        "id": "S3PUKNSiLT_I",
        "outputId": "9ec69d87-f64b-4d3a-87d2-39bbc6e54d3e"
      },
      "source": [
        "# plotting top 10 Language and movie count\n",
        "df_language['Language'].value_counts()[:10].plot(kind='bar',figsize=(15,3))\n",
        "plt.show()"
      ],
      "execution_count": 149,
      "outputs": [
        {
          "output_type": "display_data",
          "data": {
            "image/png": "[encoded data removed]",
            "text/plain": [
              "<Figure size 1080x216 with 1 Axes>"
            ]
          },
          "metadata": {
            "needs_background": "light"
          }
        }
      ]
    },
    {
      "cell_type": "markdown",
      "metadata": {
        "id": "_toFxN6yLbzs"
      },
      "source": [
        "We can also conclude that, the majority of movies were in the English language."
      ]
    },
    {
      "cell_type": "markdown",
      "metadata": {
        "id": "LvKSGcRfGyLV"
      },
      "source": [
        "## 8. IMDb rating distribution according to platform"
      ]
    },
    {
      "cell_type": "markdown",
      "metadata": {
        "id": "CMgCbAaaLkH_"
      },
      "source": [
        "In this section we will plot platform-wise IMDb rating distribution. To do so, we'll need to apply the `melt()` function and plot FacetGrid plot. `melt()` fucntion converts a wide dataframe to a long dataframe."
      ]
    },
    {
      "cell_type": "code",
      "metadata": {
        "id": "qURp1UefHRoz"
      },
      "source": [
        "# melting platform columns to create visualization\n",
        "\n",
        "df2 = pd.melt(df, id_vars=['ID', 'Title', 'Year', 'IMDb', 'Runtime'], var_name = 'platform')\n",
        "df2 = df2[df2.value==1]\n",
        "df2.drop(columns=['value'], axis =1, inplace = True)"
      ],
      "execution_count": 150,
      "outputs": []
    },
    {
      "cell_type": "code",
      "metadata": {
        "colab": {
          "base_uri": "https://localhost:8080/",
          "height": 225
        },
        "id": "tqPIOvFCfiWC",
        "outputId": "e2a3a24a-9c5e-4551-859f-e7a88d8ec7b1"
      },
      "source": [
        "# Distribution of IMDB rating in different platform\n",
        "g = sns.FacetGrid(df2, col = \"platform\")\n",
        "g.map(plt.hist, \"IMDb\")\n",
        "plt.show()"
      ],
      "execution_count": 151,
      "outputs": [
        {
          "output_type": "display_data",
          "data": {
            "image/png": "[encoded data removed]",
            "text/plain": [
              "<Figure size 864x216 with 4 Axes>"
            ]
          },
          "metadata": {
            "needs_background": "light"
          }
        }
      ]
    },
    {
      "cell_type": "markdown",
      "metadata": {
        "id": "K2lAVge__eHK"
      },
      "source": [
        "The plot above shows the average IMDb rating distribution on each platform. Both Netflix and Prime Video behave similarly in their content. same thing happens between Hulu and Disney+."
      ]
    },
    {
      "cell_type": "markdown",
      "metadata": {
        "id": "whTxWiZIGyPE"
      },
      "source": [
        "## 9. Runtime per platform along with age group"
      ]
    },
    {
      "cell_type": "markdown",
      "metadata": {
        "id": "KVI1UMtFifhp"
      },
      "source": [
        "In the \"Working With Missing Values Section\", we have dropped the Age column. For getting results of Runtime Per Platform Along with Age Group. We need to load the data again and apply the melt() function."
      ]
    },
    {
      "cell_type": "code",
      "metadata": {
        "id": "LDLqkBbqHSS-"
      },
      "source": [
        "# Load dataset\n",
        "df = pd.read_csv(\"MoviesOnStreamingPlatforms_updated.csv\")\n",
        "df=df.iloc[:,1:]\n",
        "df.ID = df.ID.astype(\"object\")\n",
        "\n",
        "# melting platform columns to create visualization\n",
        "df2 = pd.melt(df, id_vars=[\"ID\",\"Title\",\"Year\",\"Age\",\"IMDb\",\"Rotten Tomatoes\",\"Type\",\"Runtime\"], var_name=\"platform\")\n",
        "df2 = df2[df2.value==1]\n",
        "df2.drop(columns=[\"value\"],axis=1,inplace=True)"
      ],
      "execution_count": 152,
      "outputs": []
    },
    {
      "cell_type": "code",
      "metadata": {
        "colab": {
          "base_uri": "https://localhost:8080/",
          "height": 279
        },
        "id": "QKK4OcNui4qy",
        "outputId": "da9a9181-7816-4200-ce33-98f01549a20f"
      },
      "source": [
        "# Total of runtime in different platform\n",
        "ax = sns.barplot(x=\"platform\", y=\"Runtime\",hue=\"Age\", estimator=sum, data=df2)"
      ],
      "execution_count": 153,
      "outputs": [
        {
          "output_type": "display_data",
          "data": {
            "image/png": "[encoded data removed]",
            "text/plain": [
              "<Figure size 432x288 with 1 Axes>"
            ]
          },
          "metadata": {
            "needs_background": "light"
          }
        }
      ]
    },
    {
      "cell_type": "markdown",
      "metadata": {
        "id": "2h39sA03_JyY"
      },
      "source": [
        "From the plot above, we see that the total runtime on Prime Videos and Netflix by 18+ age group users is way higher than compared to the other platforms. We can interpret that both platforms have content focused on the 18+ age group."
      ]
    },
    {
      "cell_type": "markdown",
      "metadata": {
        "id": "SXjJccIiGyR6"
      },
      "source": [
        "## 10. Building a recommendation system"
      ]
    },
    {
      "cell_type": "markdown",
      "metadata": {
        "id": "HmsDlYav_x21"
      },
      "source": [
        "In the past few years, with the leap of YouTube, Walmart, Netflix, and many other such web-based services, recommender systems have created tremendous impact in the industry. From suggesting products/services to increasing companies value by online Ads-based monetization and matching the user's relevance and preference to make them buy. Recommender systems are irreplaceable in our daily web quests.\n",
        "\n",
        "Generally, these are Math based frameworks focusing on suggesting products/services to end-users that are relevant to their needs and wants. For example, movies to watch, articles to read, products to buy, music to listen to, or anything depending on the domain. There are majorly three methods to build a Recommender Systems:\n",
        "\n",
        "* **Content-Based Methods:** Define a model for users or items it interacted with \n",
        "based on items feature set recommend other similar items to the users.\n",
        "\n",
        "* **Collaborative Filtering Methods:** Define a model for users and items interaction similarity score or User and User similarity score used for item recommendation.\n",
        "\n",
        "* **Hybrid Methods:** Use both content and collaborative methods to achieve a better result."
      ]
    },
    {
      "cell_type": "code",
      "metadata": {
        "id": "i26_eelQHTC9"
      },
      "source": [
        "# Reading Data Again\n",
        "df = pd.read_csv(\"MoviesOnStreamingPlatforms_updated.csv\")\n",
        "df=df.iloc[:,1:]"
      ],
      "execution_count": 154,
      "outputs": []
    },
    {
      "cell_type": "code",
      "metadata": {
        "colab": {
          "base_uri": "https://localhost:8080/",
          "height": 551
        },
        "id": "v9AqK806jKm5",
        "outputId": "1ca156b9-d78a-4e44-9d1c-c9da4620f780"
      },
      "source": [
        "#Finding Missing values in all columns\n",
        "miss = pd.DataFrame(df.isnull().sum())\n",
        "miss = miss.rename(columns={0:\"miss_count\"})\n",
        "miss[\"miss_%\"] = (miss.miss_count/len(df.ID))*100\n",
        "miss"
      ],
      "execution_count": 155,
      "outputs": [
        {
          "output_type": "execute_result",
          "data": {
            "text/html": [
              "<div>\n",
              "<style scoped>\n",
              "    .dataframe tbody tr th:only-of-type {\n",
              "        vertical-align: middle;\n",
              "    }\n",
              "\n",
              "    .dataframe tbody tr th {\n",
              "        vertical-align: top;\n",
              "    }\n",
              "\n",
              "    .dataframe thead th {\n",
              "        text-align: right;\n",
              "    }\n",
              "</style>\n",
              "<table border=\"1\" class=\"dataframe\">\n",
              "  <thead>\n",
              "    <tr style=\"text-align: right;\">\n",
              "      <th></th>\n",
              "      <th>miss_count</th>\n",
              "      <th>miss_%</th>\n",
              "    </tr>\n",
              "  </thead>\n",
              "  <tbody>\n",
              "    <tr>\n",
              "      <th>ID</th>\n",
              "      <td>0</td>\n",
              "      <td>0.000000</td>\n",
              "    </tr>\n",
              "    <tr>\n",
              "      <th>Title</th>\n",
              "      <td>0</td>\n",
              "      <td>0.000000</td>\n",
              "    </tr>\n",
              "    <tr>\n",
              "      <th>Year</th>\n",
              "      <td>0</td>\n",
              "      <td>0.000000</td>\n",
              "    </tr>\n",
              "    <tr>\n",
              "      <th>Age</th>\n",
              "      <td>4177</td>\n",
              "      <td>43.899107</td>\n",
              "    </tr>\n",
              "    <tr>\n",
              "      <th>IMDb</th>\n",
              "      <td>206</td>\n",
              "      <td>2.165003</td>\n",
              "    </tr>\n",
              "    <tr>\n",
              "      <th>Rotten Tomatoes</th>\n",
              "      <td>7</td>\n",
              "      <td>0.073568</td>\n",
              "    </tr>\n",
              "    <tr>\n",
              "      <th>Netflix</th>\n",
              "      <td>0</td>\n",
              "      <td>0.000000</td>\n",
              "    </tr>\n",
              "    <tr>\n",
              "      <th>Hulu</th>\n",
              "      <td>0</td>\n",
              "      <td>0.000000</td>\n",
              "    </tr>\n",
              "    <tr>\n",
              "      <th>Prime Video</th>\n",
              "      <td>0</td>\n",
              "      <td>0.000000</td>\n",
              "    </tr>\n",
              "    <tr>\n",
              "      <th>Disney+</th>\n",
              "      <td>0</td>\n",
              "      <td>0.000000</td>\n",
              "    </tr>\n",
              "    <tr>\n",
              "      <th>Type</th>\n",
              "      <td>0</td>\n",
              "      <td>0.000000</td>\n",
              "    </tr>\n",
              "    <tr>\n",
              "      <th>Directors</th>\n",
              "      <td>411</td>\n",
              "      <td>4.319496</td>\n",
              "    </tr>\n",
              "    <tr>\n",
              "      <th>Genres</th>\n",
              "      <td>116</td>\n",
              "      <td>1.219128</td>\n",
              "    </tr>\n",
              "    <tr>\n",
              "      <th>Country</th>\n",
              "      <td>254</td>\n",
              "      <td>2.669469</td>\n",
              "    </tr>\n",
              "    <tr>\n",
              "      <th>Language</th>\n",
              "      <td>313</td>\n",
              "      <td>3.289543</td>\n",
              "    </tr>\n",
              "    <tr>\n",
              "      <th>Runtime</th>\n",
              "      <td>319</td>\n",
              "      <td>3.352601</td>\n",
              "    </tr>\n",
              "  </tbody>\n",
              "</table>\n",
              "</div>"
            ],
            "text/plain": [
              "                 miss_count     miss_%\n",
              "ID                        0   0.000000\n",
              "Title                     0   0.000000\n",
              "Year                      0   0.000000\n",
              "Age                    4177  43.899107\n",
              "IMDb                    206   2.165003\n",
              "Rotten Tomatoes           7   0.073568\n",
              "Netflix                   0   0.000000\n",
              "Hulu                      0   0.000000\n",
              "Prime Video               0   0.000000\n",
              "Disney+                   0   0.000000\n",
              "Type                      0   0.000000\n",
              "Directors               411   4.319496\n",
              "Genres                  116   1.219128\n",
              "Country                 254   2.669469\n",
              "Language                313   3.289543\n",
              "Runtime                 319   3.352601"
            ]
          },
          "metadata": {},
          "execution_count": 155
        }
      ]
    },
    {
      "cell_type": "code",
      "metadata": {
        "id": "4cgdqZl3jKuy"
      },
      "source": [
        "#Dropping values with missing % more than 50%\n",
        "df.drop(['Age'], axis = 1, inplace=True)\n",
        "# Dropping Na's from the following columns\n",
        "df.dropna(subset=['IMDb','Directors', 'Genres', 'Country', 'Language', 'Runtime'],inplace=True)\n",
        "df.reset_index(inplace=True,drop=True)\n",
        "# converting into object type\n",
        "df.ID = df.ID.astype(\"object\")\n",
        "df.Year = df.Year.astype(\"object\")\n",
        "# transforming IMDb and Rotten Tomatoes data\n",
        "df['IMDb'] = df['IMDb'].str[:3]\n",
        "df['Rotten Tomatoes'] = df['Rotten Tomatoes'].str[:2]\n",
        "df.IMDb = df.IMDb.astype('float')\n",
        "df['Rotten Tomatoes'] = df['Rotten Tomatoes'].astype('float')"
      ],
      "execution_count": 156,
      "outputs": []
    },
    {
      "cell_type": "markdown",
      "metadata": {
        "id": "tCByqjNPBwxL"
      },
      "source": [
        "We build two recommender system based on cosine similarity\n",
        "\n",
        "\n",
        "1.   Using only the numerical variable\n",
        "2.   Using both numerical and categorical variable\n",
        "\n"
      ]
    },
    {
      "cell_type": "markdown",
      "metadata": {
        "id": "RSWN1kdUB-zL"
      },
      "source": [
        "### Using only numerical column"
      ]
    },
    {
      "cell_type": "markdown",
      "metadata": {
        "id": "XN3uMluWCQjO"
      },
      "source": [
        "Select the numerical variable"
      ]
    },
    {
      "cell_type": "code",
      "metadata": {
        "id": "un6v1NVkjKxk"
      },
      "source": [
        "ndf = df.select_dtypes(include=['float64',\"int64\"])"
      ],
      "execution_count": 157,
      "outputs": []
    },
    {
      "cell_type": "markdown",
      "metadata": {
        "id": "j1iN2THkCUJ-"
      },
      "source": [
        "Scaling the numerical variable using min-max scaler to reduce model complexity and training time\n"
      ]
    },
    {
      "cell_type": "code",
      "metadata": {
        "colab": {
          "base_uri": "https://localhost:8080/",
          "height": 206
        },
        "id": "r1kcyARGjVTT",
        "outputId": "7b175a25-5bab-4eb4-b562-64451d8ef02f"
      },
      "source": [
        "#importing minmax scaler\n",
        "from sklearn import preprocessing\n",
        "\n",
        "# Create MinMaxScaler Object\n",
        "scaler = preprocessing.MinMaxScaler(feature_range=(0, 1))\n",
        "\n",
        "# Create dataframe after transformation\n",
        "ndfmx = pd.DataFrame((scaler.fit_transform(ndf)))\n",
        "\n",
        "# assign column names\n",
        "ndfmx.columns=ndf.columns\n",
        "\n",
        "# Show initial 5 records\n",
        "ndfmx.head()"
      ],
      "execution_count": 158,
      "outputs": [
        {
          "output_type": "execute_result",
          "data": {
            "text/html": [
              "<div>\n",
              "<style scoped>\n",
              "    .dataframe tbody tr th:only-of-type {\n",
              "        vertical-align: middle;\n",
              "    }\n",
              "\n",
              "    .dataframe tbody tr th {\n",
              "        vertical-align: top;\n",
              "    }\n",
              "\n",
              "    .dataframe thead th {\n",
              "        text-align: right;\n",
              "    }\n",
              "</style>\n",
              "<table border=\"1\" class=\"dataframe\">\n",
              "  <thead>\n",
              "    <tr style=\"text-align: right;\">\n",
              "      <th></th>\n",
              "      <th>IMDb</th>\n",
              "      <th>Rotten Tomatoes</th>\n",
              "      <th>Netflix</th>\n",
              "      <th>Hulu</th>\n",
              "      <th>Prime Video</th>\n",
              "      <th>Disney+</th>\n",
              "      <th>Type</th>\n",
              "      <th>Runtime</th>\n",
              "    </tr>\n",
              "  </thead>\n",
              "  <tbody>\n",
              "    <tr>\n",
              "      <th>0</th>\n",
              "      <td>0.770115</td>\n",
              "      <td>1.000000</td>\n",
              "      <td>1.0</td>\n",
              "      <td>0.0</td>\n",
              "      <td>0.0</td>\n",
              "      <td>0.0</td>\n",
              "      <td>0.0</td>\n",
              "      <td>0.581006</td>\n",
              "    </tr>\n",
              "    <tr>\n",
              "      <th>1</th>\n",
              "      <td>0.839080</td>\n",
              "      <td>0.986667</td>\n",
              "      <td>1.0</td>\n",
              "      <td>0.0</td>\n",
              "      <td>0.0</td>\n",
              "      <td>0.0</td>\n",
              "      <td>0.0</td>\n",
              "      <td>0.446927</td>\n",
              "    </tr>\n",
              "    <tr>\n",
              "      <th>2</th>\n",
              "      <td>0.908046</td>\n",
              "      <td>0.960000</td>\n",
              "      <td>1.0</td>\n",
              "      <td>0.0</td>\n",
              "      <td>0.0</td>\n",
              "      <td>0.0</td>\n",
              "      <td>0.0</td>\n",
              "      <td>0.229050</td>\n",
              "    </tr>\n",
              "    <tr>\n",
              "      <th>3</th>\n",
              "      <td>0.804598</td>\n",
              "      <td>0.946667</td>\n",
              "      <td>1.0</td>\n",
              "      <td>0.0</td>\n",
              "      <td>0.0</td>\n",
              "      <td>0.0</td>\n",
              "      <td>0.0</td>\n",
              "      <td>0.622905</td>\n",
              "    </tr>\n",
              "    <tr>\n",
              "      <th>4</th>\n",
              "      <td>0.689655</td>\n",
              "      <td>0.946667</td>\n",
              "      <td>1.0</td>\n",
              "      <td>0.0</td>\n",
              "      <td>0.0</td>\n",
              "      <td>0.0</td>\n",
              "      <td>0.0</td>\n",
              "      <td>0.273743</td>\n",
              "    </tr>\n",
              "  </tbody>\n",
              "</table>\n",
              "</div>"
            ],
            "text/plain": [
              "       IMDb  Rotten Tomatoes  Netflix  ...  Disney+  Type   Runtime\n",
              "0  0.770115         1.000000      1.0  ...      0.0   0.0  0.581006\n",
              "1  0.839080         0.986667      1.0  ...      0.0   0.0  0.446927\n",
              "2  0.908046         0.960000      1.0  ...      0.0   0.0  0.229050\n",
              "3  0.804598         0.946667      1.0  ...      0.0   0.0  0.622905\n",
              "4  0.689655         0.946667      1.0  ...      0.0   0.0  0.273743\n",
              "\n",
              "[5 rows x 8 columns]"
            ]
          },
          "metadata": {},
          "execution_count": 158
        }
      ]
    },
    {
      "cell_type": "markdown",
      "metadata": {
        "id": "OIY-V_3eCVrO"
      },
      "source": [
        "Compute similarity score using cosine similarity"
      ]
    },
    {
      "cell_type": "code",
      "metadata": {
        "id": "ieApx5G9jYFU"
      },
      "source": [
        "# Import cosine similarity\n",
        "from sklearn.metrics.pairwise import cosine_similarity\n",
        "\n",
        "# Compute the cosine similarity\n",
        "sig = cosine_similarity(ndfmx, ndfmx)\n",
        "\n",
        "# Reverse mapping of indices and movie titles\n",
        "indices = pd.Series(df.index, index=df['Title']).drop_duplicates()"
      ],
      "execution_count": 159,
      "outputs": []
    },
    {
      "cell_type": "code",
      "metadata": {
        "colab": {
          "base_uri": "https://localhost:8080/"
        },
        "id": "zqW2IY3fjbVP",
        "outputId": "1d45d678-f813-44e1-83b2-d49570200ce6"
      },
      "source": [
        "indices.head()"
      ],
      "execution_count": 160,
      "outputs": [
        {
          "output_type": "execute_result",
          "data": {
            "text/plain": [
              "Title\n",
              "The Irishman                                0\n",
              "Dangal                                      1\n",
              "David Attenborough: A Life on Our Planet    2\n",
              "Lagaan: Once Upon a Time in India           3\n",
              "To All the Boys I've Loved Before           4\n",
              "dtype: int64"
            ]
          },
          "metadata": {},
          "execution_count": 160
        }
      ]
    },
    {
      "cell_type": "markdown",
      "metadata": {
        "id": "jnzY0x7uCeAI"
      },
      "source": [
        "Writing a function to get recommendations based on the similarity score\n",
        "\n",
        "* The function takes two arguments, movie title, and similarity scores. It searches the index of the title corresponding to the original_titles index in our series of indices.\n",
        "* Get the pairwise similarity scores of all the movies\n",
        "* Sorting the similarity scores in descending order and converting them into a list\n",
        "* Getting the top 10 movies scores and indices and returning the title of the top 10 movies from our dataframe."
      ]
    },
    {
      "cell_type": "code",
      "metadata": {
        "id": "swsL4ZEtCeZs"
      },
      "source": [
        "def give_rec(title, sig=sig):\n",
        "\n",
        "    # Get the index corresponding to original_title\n",
        "    idx = indices[title]\n",
        "\n",
        "    # Get the pairwise similarity scores\n",
        "    sig_scores = list(enumerate(sig[idx]))\n",
        "\n",
        "    # Sort the movies\n",
        "    sig_scores = sorted(sig_scores, key=lambda x: x[1], reverse=True)\n",
        "\n",
        "    # Scores of the 10 most similar movies\n",
        "    sig_scores = sig_scores[1:11]\n",
        "\n",
        "    # Movie indices\n",
        "    movie_indices = [i[0] for i in sig_scores]\n",
        "\n",
        "    # Top 10 most similar movies\n",
        "    return df['Title'].iloc[movie_indices]"
      ],
      "execution_count": 161,
      "outputs": []
    },
    {
      "cell_type": "code",
      "metadata": {
        "colab": {
          "base_uri": "https://localhost:8080/"
        },
        "id": "KUccAV75C9GG",
        "outputId": "dde1b95f-0501-4ea4-af6f-17d2d0aaeea6"
      },
      "source": [
        "# Execute get_rec() function for getting recommendation\n",
        "give_rec(\"The Irishman\",sig = sig)"
      ],
      "execution_count": 171,
      "outputs": [
        {
          "output_type": "execute_result",
          "data": {
            "text/plain": [
              "3     Lagaan: Once Upon a Time in India\n",
              "13                               Swades\n",
              "43             Kabhi Khushi Kabhie Gham\n",
              "1                                Dangal\n",
              "64                        Kal Ho Naa Ho\n",
              "69                    The Hateful Eight\n",
              "45                         Super Deluxe\n",
              "26                     Django Unchained\n",
              "19                             The King\n",
              "54                             3 Idiots\n",
              "Name: Title, dtype: object"
            ]
          },
          "metadata": {},
          "execution_count": 171
        }
      ]
    },
    {
      "cell_type": "markdown",
      "metadata": {
        "id": "cOXSQd3vDHxj"
      },
      "source": [
        "Here, recommended movies are not up to the mark. The reason behind this poor result is that we are using only movie ratings, movie runtimes, and platfom variables. We can improve this by using other information such as genre, directors, and country."
      ]
    },
    {
      "cell_type": "markdown",
      "metadata": {
        "id": "SjwkQFe5DXE8"
      },
      "source": [
        "### Using numerical and textual column"
      ]
    },
    {
      "cell_type": "markdown",
      "metadata": {
        "id": "LcC707vpDczh"
      },
      "source": [
        "Let's try a hybrid concept to improve our results"
      ]
    },
    {
      "cell_type": "code",
      "metadata": {
        "colab": {
          "base_uri": "https://localhost:8080/",
          "height": 293
        },
        "id": "TEHtSlR8DbmC",
        "outputId": "ad47f0ee-d16a-487a-ad38-c373801279f7"
      },
      "source": [
        "df.head()"
      ],
      "execution_count": 165,
      "outputs": [
        {
          "output_type": "execute_result",
          "data": {
            "text/html": [
              "<div>\n",
              "<style scoped>\n",
              "    .dataframe tbody tr th:only-of-type {\n",
              "        vertical-align: middle;\n",
              "    }\n",
              "\n",
              "    .dataframe tbody tr th {\n",
              "        vertical-align: top;\n",
              "    }\n",
              "\n",
              "    .dataframe thead th {\n",
              "        text-align: right;\n",
              "    }\n",
              "</style>\n",
              "<table border=\"1\" class=\"dataframe\">\n",
              "  <thead>\n",
              "    <tr style=\"text-align: right;\">\n",
              "      <th></th>\n",
              "      <th>ID</th>\n",
              "      <th>Title</th>\n",
              "      <th>Year</th>\n",
              "      <th>IMDb</th>\n",
              "      <th>Rotten Tomatoes</th>\n",
              "      <th>Netflix</th>\n",
              "      <th>Hulu</th>\n",
              "      <th>Prime Video</th>\n",
              "      <th>Disney+</th>\n",
              "      <th>Type</th>\n",
              "      <th>Directors</th>\n",
              "      <th>Genres</th>\n",
              "      <th>Country</th>\n",
              "      <th>Language</th>\n",
              "      <th>Runtime</th>\n",
              "    </tr>\n",
              "  </thead>\n",
              "  <tbody>\n",
              "    <tr>\n",
              "      <th>0</th>\n",
              "      <td>1</td>\n",
              "      <td>The Irishman</td>\n",
              "      <td>2019</td>\n",
              "      <td>7.8</td>\n",
              "      <td>98.0</td>\n",
              "      <td>1</td>\n",
              "      <td>0</td>\n",
              "      <td>0</td>\n",
              "      <td>0</td>\n",
              "      <td>0</td>\n",
              "      <td>Martin Scorsese</td>\n",
              "      <td>Biography,Crime,Drama</td>\n",
              "      <td>United States</td>\n",
              "      <td>English,Italian,Latin,Spanish,German</td>\n",
              "      <td>209.0</td>\n",
              "    </tr>\n",
              "    <tr>\n",
              "      <th>1</th>\n",
              "      <td>2</td>\n",
              "      <td>Dangal</td>\n",
              "      <td>2016</td>\n",
              "      <td>8.4</td>\n",
              "      <td>97.0</td>\n",
              "      <td>1</td>\n",
              "      <td>0</td>\n",
              "      <td>0</td>\n",
              "      <td>0</td>\n",
              "      <td>0</td>\n",
              "      <td>Nitesh Tiwari</td>\n",
              "      <td>Action,Biography,Drama,Sport</td>\n",
              "      <td>India,United States,United Kingdom,Australia,K...</td>\n",
              "      <td>Hindi,English</td>\n",
              "      <td>161.0</td>\n",
              "    </tr>\n",
              "    <tr>\n",
              "      <th>2</th>\n",
              "      <td>3</td>\n",
              "      <td>David Attenborough: A Life on Our Planet</td>\n",
              "      <td>2020</td>\n",
              "      <td>9.0</td>\n",
              "      <td>95.0</td>\n",
              "      <td>1</td>\n",
              "      <td>0</td>\n",
              "      <td>0</td>\n",
              "      <td>0</td>\n",
              "      <td>0</td>\n",
              "      <td>Alastair Fothergill,Jonathan Hughes,Keith Scholey</td>\n",
              "      <td>Documentary,Biography</td>\n",
              "      <td>United Kingdom</td>\n",
              "      <td>English</td>\n",
              "      <td>83.0</td>\n",
              "    </tr>\n",
              "    <tr>\n",
              "      <th>3</th>\n",
              "      <td>4</td>\n",
              "      <td>Lagaan: Once Upon a Time in India</td>\n",
              "      <td>2001</td>\n",
              "      <td>8.1</td>\n",
              "      <td>94.0</td>\n",
              "      <td>1</td>\n",
              "      <td>0</td>\n",
              "      <td>0</td>\n",
              "      <td>0</td>\n",
              "      <td>0</td>\n",
              "      <td>Ashutosh Gowariker</td>\n",
              "      <td>Drama,Musical,Sport</td>\n",
              "      <td>India,United Kingdom</td>\n",
              "      <td>Hindi,English</td>\n",
              "      <td>224.0</td>\n",
              "    </tr>\n",
              "    <tr>\n",
              "      <th>4</th>\n",
              "      <td>6</td>\n",
              "      <td>To All the Boys I've Loved Before</td>\n",
              "      <td>2018</td>\n",
              "      <td>7.1</td>\n",
              "      <td>94.0</td>\n",
              "      <td>1</td>\n",
              "      <td>0</td>\n",
              "      <td>0</td>\n",
              "      <td>0</td>\n",
              "      <td>0</td>\n",
              "      <td>Susan Johnson</td>\n",
              "      <td>Comedy,Drama,Romance</td>\n",
              "      <td>United States</td>\n",
              "      <td>English</td>\n",
              "      <td>99.0</td>\n",
              "    </tr>\n",
              "  </tbody>\n",
              "</table>\n",
              "</div>"
            ],
            "text/plain": [
              "  ID  ... Runtime\n",
              "0  1  ...   209.0\n",
              "1  2  ...   161.0\n",
              "2  3  ...    83.0\n",
              "3  4  ...   224.0\n",
              "4  6  ...    99.0\n",
              "\n",
              "[5 rows x 15 columns]"
            ]
          },
          "metadata": {},
          "execution_count": 165
        }
      ]
    },
    {
      "cell_type": "markdown",
      "metadata": {
        "id": "qvb0eAdKDlr1"
      },
      "source": [
        "We will use textual columns into a single column then use tokenizer and TF-IDF Vectorizer to create a sparse matrix of all the words TF-IDF score. Then we will select and scale the numerical variables and add them into the sparse matrix. We need to perform the following steps for preprocessing:\n",
        "\n",
        "* Selecting all object data types and storing them in a list.\n",
        "* Removing ID and Title column.\n",
        "* Joining all text/object columns using commas into a single column.\n",
        "* Creating a tokenizer to remove unwanted elements from our data like symbols and numbers.\n",
        "* Converting TfidfVector from the text. After that we will do numerical columns pre-processing\n",
        "* Selecting numerical variables into a data Frame\n",
        "* Scaling Numerical variables using minmax scaler (0,1) range\n",
        "* Adding numerical variables in the TF-IDF vectors sparse matrix using hstack function (hstack is used to add horizontal arrays into a sparse matrix)."
      ]
    },
    {
      "cell_type": "code",
      "metadata": {
        "id": "AuVKWfwRDl2E"
      },
      "source": [
        "#the function performs all the important preprocessing steps\n",
        "def preprocess(df):\n",
        "    #combining all text columns\n",
        "    # Selecting all object data type and storing them in list\n",
        "    s = list(df.select_dtypes(include=['object']).columns)\n",
        "    # Removing ID and Title column\n",
        "    s.remove(\"Title\")\n",
        "    s.remove(\"ID\")\n",
        "    # Joining all text/object columns using commas into a single column\n",
        "    df['all_text']= df[s].apply(lambda x: ','.join(x.dropna().astype(str)),axis=1)\n",
        "\n",
        "    # Creating a tokenizer to remove unwanted elements from our data like symbols and numbers\n",
        "    token = RegexpTokenizer(r'[a-zA-Z]+')\n",
        "\n",
        "    # Converting TfidfVector from the text\n",
        "    cv = TfidfVectorizer(lowercase=True,stop_words='english',ngram_range = (1,1),tokenizer = token.tokenize)\n",
        "    text_counts= cv.fit_transform(df['all_text'])\n",
        "\n",
        "    # Aelecting numerical variables\n",
        "    ndf = df.select_dtypes(include=['float64',\"int64\"])\n",
        "\n",
        "    # Scaling Numerical variables\n",
        "    scaler = preprocessing.MinMaxScaler(feature_range=(0, 1))\n",
        "\n",
        "    # Applying scaler on our data and converting i into a data frame\n",
        "    ndfmx = pd.DataFrame((scaler.fit_transform(ndf)))\n",
        "    ndfmx.columns=ndf.columns    \n",
        "\n",
        "    # Adding our adding numerical variables in the TF-IDF vector\n",
        "    IMDb = ndfmx.IMDb.values[:, None]\n",
        "    X_train_dtm = hstack((text_counts, IMDb))\n",
        "    Netflix = ndfmx.Netflix.values[:, None]\n",
        "    X_train_dtm = hstack((X_train_dtm, Netflix))\n",
        "    Hulu = ndfmx.Hulu.values[:, None]\n",
        "    X_train_dtm = hstack((X_train_dtm, Hulu))\n",
        "    Prime = ndfmx[\"Prime Video\"].values[:, None]\n",
        "    X_train_dtm = hstack((X_train_dtm, Prime))\n",
        "    Disney = ndfmx[\"Disney+\"].values[:, None]\n",
        "    X_train_dtm = hstack((X_train_dtm, Disney))\n",
        "    Runtime = ndfmx.Runtime.values[:, None]\n",
        "    X_train_dtm = hstack((X_train_dtm, Runtime))\n",
        "    return X_train_dtm"
      ],
      "execution_count": 166,
      "outputs": []
    },
    {
      "cell_type": "markdown",
      "metadata": {
        "id": "8Ek--xZCDl9s"
      },
      "source": [
        "Applying the function to our data and creating a sparse matrix"
      ]
    },
    {
      "cell_type": "code",
      "metadata": {
        "colab": {
          "base_uri": "https://localhost:8080/"
        },
        "id": "IhLCNng4DmHP",
        "outputId": "0467752f-3306-43cc-9bdf-c25667b247f1"
      },
      "source": [
        "# Preprocessing data\n",
        "mat =preprocess(df)\n",
        "mat.shape"
      ],
      "execution_count": 167,
      "outputs": [
        {
          "output_type": "execute_result",
          "data": {
            "text/plain": [
              "(8695, 8190)"
            ]
          },
          "metadata": {},
          "execution_count": 167
        }
      ]
    },
    {
      "cell_type": "markdown",
      "metadata": {
        "id": "qZB0C-V8Ef9L"
      },
      "source": [
        "Applying the cosine similarity to compute the similarity score"
      ]
    },
    {
      "cell_type": "code",
      "metadata": {
        "id": "wVHF2nTJEgKV"
      },
      "source": [
        "# using cosine similarity\n",
        "from sklearn.metrics.pairwise import cosine_similarity\n",
        "\n",
        "# Compute the sigmoid kernel\n",
        "sig2 = cosine_similarity(mat, mat)\n",
        "\n",
        "# Reverse mapping of indices and movie titles\n",
        "indices = pd.Series(df.index, index=df['Title']).drop_duplicates()"
      ],
      "execution_count": 168,
      "outputs": []
    },
    {
      "cell_type": "markdown",
      "metadata": {
        "id": "LnhiKNAmEqqK"
      },
      "source": [
        "Getting a recommendation from our improved system"
      ]
    },
    {
      "cell_type": "code",
      "metadata": {
        "colab": {
          "base_uri": "https://localhost:8080/"
        },
        "id": "iGbTnyPPEpIw",
        "outputId": "27cfff78-dc6f-49a6-89ee-cd8140552c6e"
      },
      "source": [
        "give_rec(\"The Irishman\", sig=sig2)"
      ],
      "execution_count": 170,
      "outputs": [
        {
          "output_type": "execute_result",
          "data": {
            "text/plain": [
              "2896                                          Taxi Driver\n",
              "34                                         Shutter Island\n",
              "42                           No Direction Home: Bob Dylan\n",
              "609     Rolling Thunder Revue: A Bob Dylan Story by Ma...\n",
              "170                                                  Hugo\n",
              "22                                           The Departed\n",
              "337                                                  Mank\n",
              "255                                         The Two Popes\n",
              "70                                                   Rush\n",
              "68                                          Casino Royale\n",
              "Name: Title, dtype: object"
            ]
          },
          "metadata": {},
          "execution_count": 170
        }
      ]
    },
    {
      "cell_type": "markdown",
      "metadata": {
        "id": "IRKF57L2GyUy"
      },
      "source": [
        "## 11. Conclusion"
      ]
    },
    {
      "cell_type": "markdown",
      "metadata": {
        "id": "4sR7FGgVFDen"
      },
      "source": [
        "In this tutorial, we performed an exploratory analysis of the streaming platform movie dataset. We have explored missing values, individual distribution plots, and distribution of movies on each streaming platform. We have also discovered insights on genre, country, language, IMDb ratings, and movie runtime. Finally, we have built a recommender system in Python.\n",
        "\n",
        "For more tutorials like this, visit [datacamp.com](https://www.datacamp.com/community/tutorials/streaming-platform-analysis).\n"
      ]
    }
  ]
}